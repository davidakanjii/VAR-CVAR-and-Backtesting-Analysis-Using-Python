{
  "nbformat": 4,
  "nbformat_minor": 0,
  "metadata": {
    "colab": {
      "provenance": []
    },
    "kernelspec": {
      "name": "python3",
      "display_name": "Python 3"
    },
    "language_info": {
      "name": "python"
    }
  },
  "cells": [
    {
      "cell_type": "markdown",
      "source": [
        " Let us import the necessary libraries"
      ],
      "metadata": {
        "id": "2fUxJm2vyn1l"
      }
    },
    {
      "cell_type": "code",
      "source": [
        "# !pip install yfinance\n",
        "# !pip install pandas-datareader\n",
        "!pip install tabulate\n"
      ],
      "metadata": {
        "colab": {
          "base_uri": "https://localhost:8080/"
        },
        "id": "K_XCJHXpPLo-",
        "outputId": "bc0e42d9-c1a0-498f-de38-8f06227c6704"
      },
      "execution_count": null,
      "outputs": [
        {
          "output_type": "stream",
          "name": "stdout",
          "text": [
            "Looking in indexes: https://pypi.org/simple, https://us-python.pkg.dev/colab-wheels/public/simple/\n",
            "Requirement already satisfied: tabulate in /usr/local/lib/python3.7/dist-packages (0.8.10)\n"
          ]
        }
      ]
    },
    {
      "cell_type": "code",
      "source": [
        "!pip install pandas_datareader --upgrade\n"
      ],
      "metadata": {
        "colab": {
          "base_uri": "https://localhost:8080/"
        },
        "id": "rhDbgsSP4Fen",
        "outputId": "3c9ce8f2-195d-4e64-f977-a102d9cccc78"
      },
      "execution_count": null,
      "outputs": [
        {
          "output_type": "stream",
          "name": "stdout",
          "text": [
            "Looking in indexes: https://pypi.org/simple, https://us-python.pkg.dev/colab-wheels/public/simple/\n",
            "Requirement already satisfied: pandas_datareader in /usr/local/lib/python3.7/dist-packages (0.10.0)\n",
            "Requirement already satisfied: pandas>=0.23 in /usr/local/lib/python3.7/dist-packages (from pandas_datareader) (1.3.5)\n",
            "Requirement already satisfied: requests>=2.19.0 in /usr/local/lib/python3.7/dist-packages (from pandas_datareader) (2.28.1)\n",
            "Requirement already satisfied: lxml in /usr/local/lib/python3.7/dist-packages (from pandas_datareader) (4.9.1)\n",
            "Requirement already satisfied: numpy>=1.17.3 in /usr/local/lib/python3.7/dist-packages (from pandas>=0.23->pandas_datareader) (1.21.6)\n",
            "Requirement already satisfied: python-dateutil>=2.7.3 in /usr/local/lib/python3.7/dist-packages (from pandas>=0.23->pandas_datareader) (2.8.2)\n",
            "Requirement already satisfied: pytz>=2017.3 in /usr/local/lib/python3.7/dist-packages (from pandas>=0.23->pandas_datareader) (2022.5)\n",
            "Requirement already satisfied: six>=1.5 in /usr/local/lib/python3.7/dist-packages (from python-dateutil>=2.7.3->pandas>=0.23->pandas_datareader) (1.15.0)\n",
            "Requirement already satisfied: idna<4,>=2.5 in /usr/local/lib/python3.7/dist-packages (from requests>=2.19.0->pandas_datareader) (2.10)\n",
            "Requirement already satisfied: urllib3<1.27,>=1.21.1 in /usr/local/lib/python3.7/dist-packages (from requests>=2.19.0->pandas_datareader) (1.24.3)\n",
            "Requirement already satisfied: charset-normalizer<3,>=2 in /usr/local/lib/python3.7/dist-packages (from requests>=2.19.0->pandas_datareader) (2.1.1)\n",
            "Requirement already satisfied: certifi>=2017.4.17 in /usr/local/lib/python3.7/dist-packages (from requests>=2.19.0->pandas_datareader) (2022.9.24)\n"
          ]
        }
      ]
    },
    {
      "cell_type": "code",
      "source": [
        "import yfinance as yf\n"
      ],
      "metadata": {
        "id": "N3QmkiWjwga3"
      },
      "execution_count": null,
      "outputs": []
    },
    {
      "cell_type": "code",
      "source": [
        "stock = '^BSESN'\n",
        "endDate = \"2020-12-31\"\n",
        "startDate = \"2020-01-01\"\n",
        "\n",
        "df = yf.download(stock, start=startDate, end=endDate)\n",
        "df = df[['Close']]\n",
        "df['returns']= df.Close.pct_change()\n",
        "print(df['returns'])"
      ],
      "metadata": {
        "colab": {
          "base_uri": "https://localhost:8080/"
        },
        "id": "49ru3V4cyxCP",
        "outputId": "964efb69-4fec-44e1-a01d-5b6a9d6de462"
      },
      "execution_count": null,
      "outputs": [
        {
          "output_type": "stream",
          "name": "stdout",
          "text": [
            "\r[*********************100%***********************]  1 of 1 completed\n",
            "Date\n",
            "2020-01-02         NaN\n",
            "2020-01-03   -0.003892\n",
            "2020-01-06   -0.019004\n",
            "2020-01-07    0.004741\n",
            "2020-01-08   -0.001266\n",
            "                ...   \n",
            "2020-12-23    0.009509\n",
            "2020-12-24    0.011398\n",
            "2020-12-28    0.008094\n",
            "2020-12-29    0.005476\n",
            "2020-12-30    0.002796\n",
            "Name: returns, Length: 248, dtype: float64\n"
          ]
        },
        {
          "output_type": "stream",
          "name": "stderr",
          "text": [
            "/usr/local/lib/python3.7/dist-packages/ipykernel_launcher.py:7: SettingWithCopyWarning: \n",
            "A value is trying to be set on a copy of a slice from a DataFrame.\n",
            "Try using .loc[row_indexer,col_indexer] = value instead\n",
            "\n",
            "See the caveats in the documentation: https://pandas.pydata.org/pandas-docs/stable/user_guide/indexing.html#returning-a-view-versus-a-copy\n",
            "  import sys\n"
          ]
        }
      ]
    },
    {
      "cell_type": "markdown",
      "source": [
        " Determine the mean and standard deviation of the daily returns. Plot the normal curve against the daily returns"
      ],
      "metadata": {
        "id": "3d9I0Mls3Oc9"
      }
    },
    {
      "cell_type": "code",
      "source": [
        "import numpy as np\n",
        "import matplotlib.pyplot as plt\n",
        "from scipy.stats import norm\n",
        "from tabulate import tabulate"
      ],
      "metadata": {
        "id": "kq8KR6TjiiS8"
      },
      "execution_count": null,
      "outputs": []
    },
    {
      "cell_type": "code",
      "source": [
        "mean = np.mean(df['returns'])\n",
        "std_dev = np.std(df['returns'])\n",
        "\n",
        "df['returns'].hist(bins=40,density=True,histtype='stepfilled',alpha=0.5)\n",
        "x=np.linspace(mean- 3*std_dev,mean + 3*std_dev,100)\n",
        "plt.plot(x,norm.pdf(x,mean,std_dev),\"r\")"
      ],
      "metadata": {
        "colab": {
          "base_uri": "https://localhost:8080/",
          "height": 282
        },
        "id": "86byhufz0uB0",
        "outputId": "ebe5038e-d4c9-4ee9-e157-614d57e0749a"
      },
      "execution_count": null,
      "outputs": [
        {
          "output_type": "execute_result",
          "data": {
            "text/plain": [
              "[<matplotlib.lines.Line2D at 0x7f990f925a90>]"
            ]
          },
          "metadata": {},
          "execution_count": 67
        },
        {
          "output_type": "display_data",
          "data": {
            "text/plain": [
              "<Figure size 432x288 with 1 Axes>"
            ],
            "image/png": "[encoded data removed]"
          },
          "metadata": {
            "needs_background": "light"
          }
        }
      ]
    },
    {
      "cell_type": "markdown",
      "source": [
        "Calculate the VaR using point percentile function"
      ],
      "metadata": {
        "id": "neUqOPQu3U-Q"
      }
    },
    {
      "cell_type": "code",
      "source": [
        "vaR_90 = norm.pdf(1-0.9,mean,std_dev)\n",
        "vaR_95 = norm.pdf(1-0.95,mean,std_dev)\n",
        "vaR_99 = norm.pdf(1-0.99,mean,std_dev)\n",
        "\n",
        "print(tabulate([['90%',vaR_90],['95%',vaR_95],['99%',vaR_99]],headers=['confidence level','value at Risk']))\n"
      ],
      "metadata": {
        "colab": {
          "base_uri": "https://localhost:8080/"
        },
        "id": "BQbLTEAW3IoZ",
        "outputId": "62d23eb2-7bde-4e4f-edb2-a4fd4a3dea09"
      },
      "execution_count": null,
      "outputs": [
        {
          "output_type": "stream",
          "name": "stdout",
          "text": [
            "confidence level      value at Risk\n",
            "------------------  ---------------\n",
            "90%                     0.000117995\n",
            "95%                     1.02122\n",
            "99%                    17.7657\n"
          ]
        }
      ]
    },
    {
      "cell_type": "markdown",
      "source": [
        "VaR Calculation using the Historical Simulation approach\n"
      ],
      "metadata": {
        "id": "OeWORADu5Ky8"
      }
    },
    {
      "cell_type": "markdown",
      "source": [
        "Calculate the daily returns"
      ],
      "metadata": {
        "id": "2tT4mFBb5jgH"
      }
    },
    {
      "cell_type": "code",
      "source": [
        "stock = '^BSESN'\n",
        "endDate = \"2020-12-31\"\n",
        "startDate = \"2020-01-01\"\n",
        "\n",
        "df = yf.download(stock, start=startDate, end=endDate)\n",
        "df['returns']= df.Close.pct_change()\n",
        "df= df.dropna()\n",
        "plt.hist(df.returns,bins=40)\n",
        "plt.xlabel('Returns')\n",
        "plt.ylabel('Frequency')\n",
        "plt.grid(True)\n",
        "plt.show()"
      ],
      "metadata": {
        "colab": {
          "base_uri": "https://localhost:8080/",
          "height": 296
        },
        "id": "j_uLS3T15JyQ",
        "outputId": "d256f1ca-dbcf-4a3e-99f6-a31a73930f71"
      },
      "execution_count": null,
      "outputs": [
        {
          "output_type": "stream",
          "name": "stdout",
          "text": [
            "\r[*********************100%***********************]  1 of 1 completed\n"
          ]
        },
        {
          "output_type": "display_data",
          "data": {
            "text/plain": [
              "<Figure size 432x288 with 1 Axes>"
            ],
            "image/png": "[encoded data removed]"
          },
          "metadata": {
            "needs_background": "light"
          }
        }
      ]
    },
    {
      "cell_type": "markdown",
      "source": [
        "Sort the returns"
      ],
      "metadata": {
        "id": "_DoGGPfh7kzr"
      }
    },
    {
      "cell_type": "code",
      "source": [
        "df.sort_values('returns',inplace=True,ascending=True)"
      ],
      "metadata": {
        "id": "AFjOFeAS6h6q",
        "colab": {
          "base_uri": "https://localhost:8080/"
        },
        "outputId": "483477f7-2112-4154-b43d-8f2e96346962"
      },
      "execution_count": null,
      "outputs": [
        {
          "output_type": "stream",
          "name": "stderr",
          "text": [
            "/usr/local/lib/python3.7/dist-packages/pandas/util/_decorators.py:311: SettingWithCopyWarning: \n",
            "A value is trying to be set on a copy of a slice from a DataFrame\n",
            "\n",
            "See the caveats in the documentation: https://pandas.pydata.org/pandas-docs/stable/user_guide/indexing.html#returning-a-view-versus-a-copy\n",
            "  return func(*args, **kwargs)\n"
          ]
        }
      ]
    },
    {
      "cell_type": "markdown",
      "source": [
        "Calculate the VaR for 90%, 95%, and 99% confidence levels using quantile function\n",
        "\n"
      ],
      "metadata": {
        "id": "OBchuGWa8_yu"
      }
    },
    {
      "cell_type": "code",
      "source": [
        "import numpy as np\n",
        "\n",
        "vaR_90 =df['returns'].quantile(0.1)\n",
        "vaR_95 =df['returns'].quantile(0.05)\n",
        "vaR_99 =df['returns'].quantile(0.01)\n",
        "\n",
        "print(tabulate([['90%',vaR_90],['95%',vaR_95],['99%',vaR_99]],headers=['confidence level','value at Risk']))\n",
        "\n",
        "# var_95= np.percentile(df['returns'],5)\n",
        "# print(var_95)\n",
        "\n"
      ],
      "metadata": {
        "colab": {
          "base_uri": "https://localhost:8080/"
        },
        "id": "-qzAo1Lm72oJ",
        "outputId": "86f7e33b-5177-4510-e981-8b1408c33566"
      },
      "execution_count": null,
      "outputs": [
        {
          "output_type": "stream",
          "name": "stdout",
          "text": [
            "confidence level      value at Risk\n",
            "------------------  ---------------\n",
            "90%                      -0.0184039\n",
            "95%                      -0.0290183\n",
            "99%                      -0.070281\n"
          ]
        }
      ]
    },
    {
      "cell_type": "markdown",
      "source": [
        "Parametric VaR\n"
      ],
      "metadata": {
        "id": "UfdXQpjw3b1M"
      }
    },
    {
      "cell_type": "code",
      "source": [
        "stock = '^BSESN'\n",
        "endDate = \"2020-12-31\"\n",
        "startDate = \"2020-01-01\"\n",
        "\n",
        "df = yf.download(stock, start=startDate, end=endDate)\n",
        "df = df[['Close']]\n",
        "df['returns']= df.Close.pct_change()\n",
        "df= df.dropna()"
      ],
      "metadata": {
        "colab": {
          "base_uri": "https://localhost:8080/"
        },
        "id": "OBELeFbE3NRP",
        "outputId": "e7c05eb2-72d9-4bea-d569-3435d0f31973"
      },
      "execution_count": null,
      "outputs": [
        {
          "output_type": "stream",
          "name": "stdout",
          "text": [
            "\r[*********************100%***********************]  1 of 1 completed\n"
          ]
        },
        {
          "output_type": "stream",
          "name": "stderr",
          "text": [
            "/usr/local/lib/python3.7/dist-packages/ipykernel_launcher.py:7: SettingWithCopyWarning: \n",
            "A value is trying to be set on a copy of a slice from a DataFrame.\n",
            "Try using .loc[row_indexer,col_indexer] = value instead\n",
            "\n",
            "See the caveats in the documentation: https://pandas.pydata.org/pandas-docs/stable/user_guide/indexing.html#returning-a-view-versus-a-copy\n",
            "  import sys\n"
          ]
        }
      ]
    },
    {
      "cell_type": "code",
      "source": [
        "# import numpy as np\n",
        "# from scipy.stats import norm\n",
        "# from tabulate import tabulate\n",
        "\n",
        "\n",
        "\n",
        "mean = np.mean(df['returns'])\n",
        "std = np.std(df['returns'])\n",
        "\n",
        "# Z_99 = norm.ppf(1-0.99)\n",
        "# price = df.iloc[-1]['Close']\n",
        "# print(mean, std, Z_99, price)"
      ],
      "metadata": {
        "id": "XuPG9mU17kJv"
      },
      "execution_count": null,
      "outputs": []
    },
    {
      "cell_type": "code",
      "source": [
        "# ParamVAR = price*Z_99*std\n",
        "# HistVAR = price*np.percentile(df.dropna(), 1)\n",
        "\n",
        "# VaR = norm.ppf(1-alpha/100)*portfolioStd - portofolioReturns\n",
        "\n",
        "# var_99 = norm.ppf(0.01,mean,std)\n",
        "vaR_90 =norm.ppf(0.1,mean,std)\n",
        "vaR_95 =norm.ppf(0.05,mean,std)\n",
        "vaR_99 = norm.ppf(0.01,mean,std)\n",
        "\n",
        "print(tabulate([['90%',vaR_90],['95%',vaR_95],['99%',vaR_99]],headers=['confidence level','value at Risk']))\n",
        "\n",
        "\n",
        "# print('Parametric VAR is {0:.3f} and Historical VAR is {1:.3f}'\n",
        "#       .format(ParamVAR, HistVAR))"
      ],
      "metadata": {
        "colab": {
          "base_uri": "https://localhost:8080/"
        },
        "id": "Y9iwBrZd9Dbv",
        "outputId": "dcf48733-cc8e-40d0-d687-1f38dd88ae7c"
      },
      "execution_count": null,
      "outputs": [
        {
          "output_type": "stream",
          "name": "stdout",
          "text": [
            "confidence level      value at Risk\n",
            "------------------  ---------------\n",
            "90%                      -0.025167\n",
            "95%                      -0.0325181\n",
            "99%                      -0.0463076\n"
          ]
        }
      ]
    },
    {
      "cell_type": "code",
      "source": [],
      "metadata": {
        "id": "WoDSjXcMhmzk"
      },
      "execution_count": null,
      "outputs": []
    },
    {
      "cell_type": "markdown",
      "source": [
        "Calculating Var and Expected shortfall for each month at convidence interval 90,95 and 99\n"
      ],
      "metadata": {
        "id": "m993LR9-h6QA"
      }
    },
    {
      "cell_type": "code",
      "source": [],
      "metadata": {
        "id": "iV7iGUiIh8RI"
      },
      "execution_count": null,
      "outputs": []
    },
    {
      "cell_type": "code",
      "source": [
        "# preprocessing the data\n",
        "\n",
        "# # df=data[(data['Date'] >= '01/01/2020') & (data['Date'] <= '12/31/2020')].sort_values(\"Date\")\n",
        "# df.rename(columns={'Close':'close'}, inplace=True)\n",
        "# df[\"close\"] = df[\"close\"].str.replace(r',', '', regex=True)\n",
        "# df[\"close\"]=df[\"close\"].astype(float)\n",
        "# # print(df.head())\n",
        "# ###############\n",
        "# df['return']=df.close.pct_change()\n",
        "# # df.sort_values(\"return\", inplace=True)\n",
        "# # define a new list which ignore the first (index 0) NAN value\n",
        "# # return_list1=df['return'].tolist()[1:]\n",
        "# # return_list=df['return'].dropna()\n",
        "# #########################\n",
        "# # print(df.head())\n",
        "# ####################################\n",
        "# print(df)\n"
      ],
      "metadata": {
        "id": "kMaWZt82wLxj"
      },
      "execution_count": null,
      "outputs": []
    },
    {
      "cell_type": "code",
      "source": [
        "df"
      ],
      "metadata": {
        "colab": {
          "base_uri": "https://localhost:8080/",
          "height": 455
        },
        "id": "lhBLJgfolQsP",
        "outputId": "38fa205f-da73-40a1-f4d4-4def5fe512c4"
      },
      "execution_count": null,
      "outputs": [
        {
          "output_type": "execute_result",
          "data": {
            "text/plain": [
              "                   Close   returns\n",
              "Date                              \n",
              "2020-01-03  41464.609375 -0.003892\n",
              "2020-01-06  40676.628906 -0.019004\n",
              "2020-01-07  40869.468750  0.004741\n",
              "2020-01-08  40817.738281 -0.001266\n",
              "2020-01-09  41452.351562  0.015547\n",
              "...                  ...       ...\n",
              "2020-12-23  46444.179688  0.009509\n",
              "2020-12-24  46973.539062  0.011398\n",
              "2020-12-28  47353.750000  0.008094\n",
              "2020-12-29  47613.078125  0.005476\n",
              "2020-12-30  47746.218750  0.002796\n",
              "\n",
              "[247 rows x 2 columns]"
            ],
            "text/html": [
              "\n",
              "  <div id=\"df-5d93afa0-5ee8-481b-818b-c6615622703f\">\n",
              "    <div class=\"colab-df-container\">\n",
              "      <div>\n",
              "<style scoped>\n",
              "    .dataframe tbody tr th:only-of-type {\n",
              "        vertical-align: middle;\n",
              "    }\n",
              "\n",
              "    .dataframe tbody tr th {\n",
              "        vertical-align: top;\n",
              "    }\n",
              "\n",
              "    .dataframe thead th {\n",
              "        text-align: right;\n",
              "    }\n",
              "</style>\n",
              "<table border=\"1\" class=\"dataframe\">\n",
              "  <thead>\n",
              "    <tr style=\"text-align: right;\">\n",
              "      <th></th>\n",
              "      <th>Close</th>\n",
              "      <th>returns</th>\n",
              "    </tr>\n",
              "    <tr>\n",
              "      <th>Date</th>\n",
              "      <th></th>\n",
              "      <th></th>\n",
              "    </tr>\n",
              "  </thead>\n",
              "  <tbody>\n",
              "    <tr>\n",
              "      <th>2020-01-03</th>\n",
              "      <td>41464.609375</td>\n",
              "      <td>-0.003892</td>\n",
              "    </tr>\n",
              "    <tr>\n",
              "      <th>2020-01-06</th>\n",
              "      <td>40676.628906</td>\n",
              "      <td>-0.019004</td>\n",
              "    </tr>\n",
              "    <tr>\n",
              "      <th>2020-01-07</th>\n",
              "      <td>40869.468750</td>\n",
              "      <td>0.004741</td>\n",
              "    </tr>\n",
              "    <tr>\n",
              "      <th>2020-01-08</th>\n",
              "      <td>40817.738281</td>\n",
              "      <td>-0.001266</td>\n",
              "    </tr>\n",
              "    <tr>\n",
              "      <th>2020-01-09</th>\n",
              "      <td>41452.351562</td>\n",
              "      <td>0.015547</td>\n",
              "    </tr>\n",
              "    <tr>\n",
              "      <th>...</th>\n",
              "      <td>...</td>\n",
              "      <td>...</td>\n",
              "    </tr>\n",
              "    <tr>\n",
              "      <th>2020-12-23</th>\n",
              "      <td>46444.179688</td>\n",
              "      <td>0.009509</td>\n",
              "    </tr>\n",
              "    <tr>\n",
              "      <th>2020-12-24</th>\n",
              "      <td>46973.539062</td>\n",
              "      <td>0.011398</td>\n",
              "    </tr>\n",
              "    <tr>\n",
              "      <th>2020-12-28</th>\n",
              "      <td>47353.750000</td>\n",
              "      <td>0.008094</td>\n",
              "    </tr>\n",
              "    <tr>\n",
              "      <th>2020-12-29</th>\n",
              "      <td>47613.078125</td>\n",
              "      <td>0.005476</td>\n",
              "    </tr>\n",
              "    <tr>\n",
              "      <th>2020-12-30</th>\n",
              "      <td>47746.218750</td>\n",
              "      <td>0.002796</td>\n",
              "    </tr>\n",
              "  </tbody>\n",
              "</table>\n",
              "<p>247 rows × 2 columns</p>\n",
              "</div>\n",
              "      <button class=\"colab-df-convert\" onclick=\"convertToInteractive('df-5d93afa0-5ee8-481b-818b-c6615622703f')\"\n",
              "              title=\"Convert this dataframe to an interactive table.\"\n",
              "              style=\"display:none;\">\n",
              "        \n",
              "  <svg xmlns=\"http://www.w3.org/2000/svg\" height=\"24px\"viewBox=\"0 0 24 24\"\n",
              "       width=\"24px\">\n",
              "    <path d=\"M0 0h24v24H0V0z\" fill=\"none\"/>\n",
              "    <path d=\"M18.56 5.44l.94 2.06.94-2.06 2.06-.94-2.06-.94-.94-2.06-.94 2.06-2.06.94zm-11 1L8.5 8.5l.94-2.06 2.06-.94-2.06-.94L8.5 2.5l-.94 2.06-2.06.94zm10 10l.94 2.06.94-2.06 2.06-.94-2.06-.94-.94-2.06-.94 2.06-2.06.94z\"/><path d=\"M17.41 7.96l-1.37-1.37c-.4-.4-.92-.59-1.43-.59-.52 0-1.04.2-1.43.59L10.3 9.45l-7.72 7.72c-.78.78-.78 2.05 0 2.83L4 21.41c.39.39.9.59 1.41.59.51 0 1.02-.2 1.41-.59l7.78-7.78 2.81-2.81c.8-.78.8-2.07 0-2.86zM5.41 20L4 18.59l7.72-7.72 1.47 1.35L5.41 20z\"/>\n",
              "  </svg>\n",
              "      </button>\n",
              "      \n",
              "  <style>\n",
              "    .colab-df-container {\n",
              "      display:flex;\n",
              "      flex-wrap:wrap;\n",
              "      gap: 12px;\n",
              "    }\n",
              "\n",
              "    .colab-df-convert {\n",
              "      background-color: #E8F0FE;\n",
              "      border: none;\n",
              "      border-radius: 50%;\n",
              "      cursor: pointer;\n",
              "      display: none;\n",
              "      fill: #1967D2;\n",
              "      height: 32px;\n",
              "      padding: 0 0 0 0;\n",
              "      width: 32px;\n",
              "    }\n",
              "\n",
              "    .colab-df-convert:hover {\n",
              "      background-color: #E2EBFA;\n",
              "      box-shadow: 0px 1px 2px rgba(60, 64, 67, 0.3), 0px 1px 3px 1px rgba(60, 64, 67, 0.15);\n",
              "      fill: #174EA6;\n",
              "    }\n",
              "\n",
              "    [theme=dark] .colab-df-convert {\n",
              "      background-color: #3B4455;\n",
              "      fill: #D2E3FC;\n",
              "    }\n",
              "\n",
              "    [theme=dark] .colab-df-convert:hover {\n",
              "      background-color: #434B5C;\n",
              "      box-shadow: 0px 1px 3px 1px rgba(0, 0, 0, 0.15);\n",
              "      filter: drop-shadow(0px 1px 2px rgba(0, 0, 0, 0.3));\n",
              "      fill: #FFFFFF;\n",
              "    }\n",
              "  </style>\n",
              "\n",
              "      <script>\n",
              "        const buttonEl =\n",
              "          document.querySelector('#df-5d93afa0-5ee8-481b-818b-c6615622703f button.colab-df-convert');\n",
              "        buttonEl.style.display =\n",
              "          google.colab.kernel.accessAllowed ? 'block' : 'none';\n",
              "\n",
              "        async function convertToInteractive(key) {\n",
              "          const element = document.querySelector('#df-5d93afa0-5ee8-481b-818b-c6615622703f');\n",
              "          const dataTable =\n",
              "            await google.colab.kernel.invokeFunction('convertToInteractive',\n",
              "                                                     [key], {});\n",
              "          if (!dataTable) return;\n",
              "\n",
              "          const docLinkHtml = 'Like what you see? Visit the ' +\n",
              "            '<a target=\"_blank\" href=https://colab.research.google.com/notebooks/data_table.ipynb>data table notebook</a>'\n",
              "            + ' to learn more about interactive tables.';\n",
              "          element.innerHTML = '';\n",
              "          dataTable['output_type'] = 'display_data';\n",
              "          await google.colab.output.renderOutput(dataTable, element);\n",
              "          const docLink = document.createElement('div');\n",
              "          docLink.innerHTML = docLinkHtml;\n",
              "          element.appendChild(docLink);\n",
              "        }\n",
              "      </script>\n",
              "    </div>\n",
              "  </div>\n",
              "  "
            ]
          },
          "metadata": {},
          "execution_count": 76
        }
      ]
    },
    {
      "cell_type": "code",
      "source": [
        "df=df.reset_index()"
      ],
      "metadata": {
        "id": "u07WklSfl2HC"
      },
      "execution_count": null,
      "outputs": []
    },
    {
      "cell_type": "code",
      "source": [],
      "metadata": {
        "id": "StdJctaNmDgz"
      },
      "execution_count": null,
      "outputs": []
    },
    {
      "cell_type": "code",
      "source": [
        "import datetime\n",
        "import pandas as pd"
      ],
      "metadata": {
        "id": "-7j6-UQemDlb"
      },
      "execution_count": null,
      "outputs": []
    },
    {
      "cell_type": "code",
      "source": [
        "\n",
        "# data[\"Date\"] = datetime.datetime.strptime(data[\"Date\"], \"%Y-%m-%d\")\n",
        "\n",
        "df['Date']=pd.to_datetime(df['Date'], format='%m/%d/%Y')\n",
        "df['month'] = df['Date'].dt.month"
      ],
      "metadata": {
        "id": "WKe_1Y1_ApjU"
      },
      "execution_count": null,
      "outputs": []
    },
    {
      "cell_type": "code",
      "source": [
        "df.head()"
      ],
      "metadata": {
        "colab": {
          "base_uri": "https://localhost:8080/",
          "height": 206
        },
        "id": "HZk_sD6lmY73",
        "outputId": "1c74bb60-9539-4f09-9e3e-893f5a3d6b2d"
      },
      "execution_count": null,
      "outputs": [
        {
          "output_type": "execute_result",
          "data": {
            "text/plain": [
              "        Date         Close   returns  month\n",
              "0 2020-01-03  41464.609375 -0.003892      1\n",
              "1 2020-01-06  40676.628906 -0.019004      1\n",
              "2 2020-01-07  40869.468750  0.004741      1\n",
              "3 2020-01-08  40817.738281 -0.001266      1\n",
              "4 2020-01-09  41452.351562  0.015547      1"
            ],
            "text/html": [
              "\n",
              "  <div id=\"df-1da2d58e-aac2-47bc-8e6e-be398b8c2a3d\">\n",
              "    <div class=\"colab-df-container\">\n",
              "      <div>\n",
              "<style scoped>\n",
              "    .dataframe tbody tr th:only-of-type {\n",
              "        vertical-align: middle;\n",
              "    }\n",
              "\n",
              "    .dataframe tbody tr th {\n",
              "        vertical-align: top;\n",
              "    }\n",
              "\n",
              "    .dataframe thead th {\n",
              "        text-align: right;\n",
              "    }\n",
              "</style>\n",
              "<table border=\"1\" class=\"dataframe\">\n",
              "  <thead>\n",
              "    <tr style=\"text-align: right;\">\n",
              "      <th></th>\n",
              "      <th>Date</th>\n",
              "      <th>Close</th>\n",
              "      <th>returns</th>\n",
              "      <th>month</th>\n",
              "    </tr>\n",
              "  </thead>\n",
              "  <tbody>\n",
              "    <tr>\n",
              "      <th>0</th>\n",
              "      <td>2020-01-03</td>\n",
              "      <td>41464.609375</td>\n",
              "      <td>-0.003892</td>\n",
              "      <td>1</td>\n",
              "    </tr>\n",
              "    <tr>\n",
              "      <th>1</th>\n",
              "      <td>2020-01-06</td>\n",
              "      <td>40676.628906</td>\n",
              "      <td>-0.019004</td>\n",
              "      <td>1</td>\n",
              "    </tr>\n",
              "    <tr>\n",
              "      <th>2</th>\n",
              "      <td>2020-01-07</td>\n",
              "      <td>40869.468750</td>\n",
              "      <td>0.004741</td>\n",
              "      <td>1</td>\n",
              "    </tr>\n",
              "    <tr>\n",
              "      <th>3</th>\n",
              "      <td>2020-01-08</td>\n",
              "      <td>40817.738281</td>\n",
              "      <td>-0.001266</td>\n",
              "      <td>1</td>\n",
              "    </tr>\n",
              "    <tr>\n",
              "      <th>4</th>\n",
              "      <td>2020-01-09</td>\n",
              "      <td>41452.351562</td>\n",
              "      <td>0.015547</td>\n",
              "      <td>1</td>\n",
              "    </tr>\n",
              "  </tbody>\n",
              "</table>\n",
              "</div>\n",
              "      <button class=\"colab-df-convert\" onclick=\"convertToInteractive('df-1da2d58e-aac2-47bc-8e6e-be398b8c2a3d')\"\n",
              "              title=\"Convert this dataframe to an interactive table.\"\n",
              "              style=\"display:none;\">\n",
              "        \n",
              "  <svg xmlns=\"http://www.w3.org/2000/svg\" height=\"24px\"viewBox=\"0 0 24 24\"\n",
              "       width=\"24px\">\n",
              "    <path d=\"M0 0h24v24H0V0z\" fill=\"none\"/>\n",
              "    <path d=\"M18.56 5.44l.94 2.06.94-2.06 2.06-.94-2.06-.94-.94-2.06-.94 2.06-2.06.94zm-11 1L8.5 8.5l.94-2.06 2.06-.94-2.06-.94L8.5 2.5l-.94 2.06-2.06.94zm10 10l.94 2.06.94-2.06 2.06-.94-2.06-.94-.94-2.06-.94 2.06-2.06.94z\"/><path d=\"M17.41 7.96l-1.37-1.37c-.4-.4-.92-.59-1.43-.59-.52 0-1.04.2-1.43.59L10.3 9.45l-7.72 7.72c-.78.78-.78 2.05 0 2.83L4 21.41c.39.39.9.59 1.41.59.51 0 1.02-.2 1.41-.59l7.78-7.78 2.81-2.81c.8-.78.8-2.07 0-2.86zM5.41 20L4 18.59l7.72-7.72 1.47 1.35L5.41 20z\"/>\n",
              "  </svg>\n",
              "      </button>\n",
              "      \n",
              "  <style>\n",
              "    .colab-df-container {\n",
              "      display:flex;\n",
              "      flex-wrap:wrap;\n",
              "      gap: 12px;\n",
              "    }\n",
              "\n",
              "    .colab-df-convert {\n",
              "      background-color: #E8F0FE;\n",
              "      border: none;\n",
              "      border-radius: 50%;\n",
              "      cursor: pointer;\n",
              "      display: none;\n",
              "      fill: #1967D2;\n",
              "      height: 32px;\n",
              "      padding: 0 0 0 0;\n",
              "      width: 32px;\n",
              "    }\n",
              "\n",
              "    .colab-df-convert:hover {\n",
              "      background-color: #E2EBFA;\n",
              "      box-shadow: 0px 1px 2px rgba(60, 64, 67, 0.3), 0px 1px 3px 1px rgba(60, 64, 67, 0.15);\n",
              "      fill: #174EA6;\n",
              "    }\n",
              "\n",
              "    [theme=dark] .colab-df-convert {\n",
              "      background-color: #3B4455;\n",
              "      fill: #D2E3FC;\n",
              "    }\n",
              "\n",
              "    [theme=dark] .colab-df-convert:hover {\n",
              "      background-color: #434B5C;\n",
              "      box-shadow: 0px 1px 3px 1px rgba(0, 0, 0, 0.15);\n",
              "      filter: drop-shadow(0px 1px 2px rgba(0, 0, 0, 0.3));\n",
              "      fill: #FFFFFF;\n",
              "    }\n",
              "  </style>\n",
              "\n",
              "      <script>\n",
              "        const buttonEl =\n",
              "          document.querySelector('#df-1da2d58e-aac2-47bc-8e6e-be398b8c2a3d button.colab-df-convert');\n",
              "        buttonEl.style.display =\n",
              "          google.colab.kernel.accessAllowed ? 'block' : 'none';\n",
              "\n",
              "        async function convertToInteractive(key) {\n",
              "          const element = document.querySelector('#df-1da2d58e-aac2-47bc-8e6e-be398b8c2a3d');\n",
              "          const dataTable =\n",
              "            await google.colab.kernel.invokeFunction('convertToInteractive',\n",
              "                                                     [key], {});\n",
              "          if (!dataTable) return;\n",
              "\n",
              "          const docLinkHtml = 'Like what you see? Visit the ' +\n",
              "            '<a target=\"_blank\" href=https://colab.research.google.com/notebooks/data_table.ipynb>data table notebook</a>'\n",
              "            + ' to learn more about interactive tables.';\n",
              "          element.innerHTML = '';\n",
              "          dataTable['output_type'] = 'display_data';\n",
              "          await google.colab.output.renderOutput(dataTable, element);\n",
              "          const docLink = document.createElement('div');\n",
              "          docLink.innerHTML = docLinkHtml;\n",
              "          element.appendChild(docLink);\n",
              "        }\n",
              "      </script>\n",
              "    </div>\n",
              "  </div>\n",
              "  "
            ]
          },
          "metadata": {},
          "execution_count": 80
        }
      ]
    },
    {
      "cell_type": "code",
      "source": [
        "df_jan=df[(df['month']==1)].dropna()\n",
        "# print(df_jan)\n",
        "jan=df_jan['returns']\n",
        "\n",
        "df_feb=df[(df['month']==2)].dropna()\n",
        "# print(df_january)\n",
        "feb=df_feb['returns']\n",
        "\n",
        "df_mar=df[(df['month']==3)].dropna()\n",
        "# print(df_january)\n",
        "mar=df_mar['returns']\n",
        "\n",
        "df_apr=df[(df['month']==4)].dropna()\n",
        "# print(df_january)\n",
        "apr=df_apr['returns']\n",
        "\n",
        "df_may=df[(df['month']==5)].dropna()\n",
        "# print(df_january)\n",
        "may=df_may['returns']\n",
        "\n",
        "df_jun=df[(df['month']==6)].dropna()\n",
        "# print(df_january)\n",
        "jun=df_jun['returns']\n",
        "\n",
        "df_jul=df[(df['month']==7)].dropna()\n",
        "# print(df_january)\n",
        "jul=df_jul['returns']\n",
        "\n",
        "df_aug=df[(df['month']==8)].dropna()\n",
        "# print(df_january)\n",
        "aug=df_aug['returns']\n",
        "\n",
        "df_sep=df[(df['month']==9)].dropna()\n",
        "# print(df_january)\n",
        "sep=df_sep['returns']\n",
        "\n",
        "df_oct=df[(df['month']==10)].dropna()\n",
        "# print(df_january)\n",
        "oct=df_oct['returns']\n",
        "\n",
        "\n",
        "df_nov=df[(df['month']==11)].dropna()\n",
        "# print(df_january)\n",
        "nov=df_nov['returns']\n",
        "\n",
        "df_dec=df[(df['month']==12)].dropna()\n",
        "# print(df_january)\n",
        "dec=df_dec['returns']\n",
        "\n"
      ],
      "metadata": {
        "id": "HpKwlZgzG-dL"
      },
      "execution_count": null,
      "outputs": []
    },
    {
      "cell_type": "code",
      "source": [
        "def value_at_risk(returns, confidence_level):\n",
        "    \"\"\"\n",
        "    Compute the Value-at-Risk metric of returns at confidence_level\n",
        "    :param returns: DataFrame\n",
        "    :param confidence_level: float\n",
        "    :return: float\n",
        "    \"\"\"\n",
        "\n",
        "    # Calculate the highest return in the lowest quantile (based on confidence level)\n",
        "    var = returns.quantile(q=confidence_level, interpolation=\"higher\")\n",
        "    return var\n",
        "\n",
        "def expected_shortfall(returns, confidence_level):\n",
        "    \"\"\"\n",
        "    Compute the Value-at-Risk metric of returns at confidence_level\n",
        "    :param returns: DataFrame\n",
        "    :param confidence_level: float\n",
        "    :return: float\n",
        "    \"\"\"\n",
        "\n",
        "    # Calculate the VaR of the returns\n",
        "    var = value_at_risk(returns, confidence_level)\n",
        "    # Find all returns in the worst quantitle\n",
        "    worst_returns = returns[returns.lt(var)]\n",
        "    # Calculate mean of all the worst returns\n",
        "    es = worst_returns.mean()\n",
        "\n",
        "    return es"
      ],
      "metadata": {
        "id": "M1cvPVyWYlw_"
      },
      "execution_count": null,
      "outputs": []
    },
    {
      "cell_type": "code",
      "source": [
        "# Var and shortfall  at 90 convidence interval for January\n",
        "print(\"This is value at risk at 90 convidence interval: \", value_at_risk(jan,confidence_level=0.9))\n",
        "print(\"This is the shortfall at 90% convidence interval : \", expected_shortfall(jan,confidence_level=0.9))\n",
        "# Var and shortfall  at 95 convidence interval\n",
        "print(\"This is value at risk at 95 % convidence interval: \", value_at_risk(jan,confidence_level=0.95))\n",
        "print(\"This is the shortfall at 95 % convidence interval : \", expected_shortfall(jan,confidence_level=0.95))\n",
        "# Var and shortfall  at 99 % convidence interval\n",
        "print(\"This is value at risk at 99 % convidence interval: \", value_at_risk(jan,confidence_level=0.99))\n",
        "print(\"This is the shortfall at 99 % convidence interval : \", expected_shortfall(jan,confidence_level=0.99))"
      ],
      "metadata": {
        "colab": {
          "base_uri": "https://localhost:8080/"
        },
        "id": "M5JgNGuVZMRF",
        "outputId": "03808cdb-b811-4594-d09f-c67df49da68e"
      },
      "execution_count": null,
      "outputs": [
        {
          "output_type": "stream",
          "name": "stdout",
          "text": [
            "This is value at risk at 90 convidence interval:  0.0062493849492673\n",
            "This is the shortfall at 90% convidence interval :  -0.0027631736712266128\n",
            "This is value at risk at 95 % convidence interval:  0.006591682685643585\n",
            "This is the shortfall at 95 % convidence interval :  -0.0022888284806743017\n",
            "This is value at risk at 99 % convidence interval:  0.015547487635823254\n",
            "This is the shortfall at 99 % convidence interval :  -0.0018448029223584073\n"
          ]
        }
      ]
    },
    {
      "cell_type": "code",
      "source": [
        "# Var and shortfall  at 90 convidence interval for febuary\n",
        "print(\"This is value at risk at 90 convidence interval: \", value_at_risk(feb,confidence_level=0.9))\n",
        "print(\"This is the shortfall at 90% convidence interval : \", expected_shortfall(feb,confidence_level=0.9))\n",
        "# Var and shortfall  at 95 convidence interval\n",
        "print(\"This is value at risk at 95 % convidence interval: \", value_at_risk(feb,confidence_level=0.95))\n",
        "print(\"This is the shortfall at 95 % convidence interval : \", expected_shortfall(feb,confidence_level=0.95))\n",
        "# Var and shortfall  at 99 % convidence interval\n",
        "print(\"This is value at risk at 99 % convidence interval: \", value_at_risk(feb,confidence_level=0.99))\n",
        "print(\"This is the shortfall at 99 % convidence interval : \", expected_shortfall(feb,confidence_level=0.99))"
      ],
      "metadata": {
        "colab": {
          "base_uri": "https://localhost:8080/"
        },
        "id": "XOHVj6KxTjaG",
        "outputId": "5530db72-eed1-419c-f49f-22af7abc81fe"
      },
      "execution_count": null,
      "outputs": [
        {
          "output_type": "stream",
          "name": "stdout",
          "text": [
            "This is value at risk at 90 convidence interval:  0.010481173824221868\n",
            "This is the shortfall at 90% convidence interval :  -0.005487305415060817\n",
            "This is value at risk at 95 % convidence interval:  0.023000180948733684\n",
            "This is the shortfall at 95 % convidence interval :  -0.0046001676795451125\n",
            "This is value at risk at 99 % convidence interval:  0.023000180948733684\n",
            "This is the shortfall at 99 % convidence interval :  -0.0046001676795451125\n"
          ]
        }
      ]
    },
    {
      "cell_type": "code",
      "source": [
        "# Var and shortfall  at 90 convidence interval for March\n",
        "print(\"This is value at risk at 90 convidence interval: \", value_at_risk(mar,confidence_level=0.9))\n",
        "print(\"This is the shortfall at 90% convidence interval : \", expected_shortfall(mar,confidence_level=0.9))\n",
        "# Var and shortfall  at 95 convidence interval\n",
        "print(\"This is value at risk at 95 % convidence interval: \", value_at_risk(mar,confidence_level=0.95))\n",
        "print(\"This is the shortfall at 95 % convidence interval : \", expected_shortfall(mar,confidence_level=0.95))\n",
        "# Var and shortfall  at 99 % convidence interval\n",
        "print(\"This is value at risk at 99 % convidence interval: \", value_at_risk(mar,confidence_level=0.99))\n",
        "print(\"This is the shortfall at 99 % convidence interval : \", expected_shortfall(mar,confidence_level=0.99))"
      ],
      "metadata": {
        "colab": {
          "base_uri": "https://localhost:8080/"
        },
        "id": "ZXpBtIZVfqys",
        "outputId": "2d6729dc-f007-45b1-d3ad-fc881ecb3361"
      },
      "execution_count": null,
      "outputs": [
        {
          "output_type": "stream",
          "name": "stdout",
          "text": [
            "This is value at risk at 90 convidence interval:  0.04944635363539973\n",
            "This is the shortfall at 90% convidence interval :  -0.022807785599777492\n",
            "This is value at risk at 95 % convidence interval:  0.05754090806592349\n",
            "This is the shortfall at 95 % convidence interval :  -0.019004936166347113\n",
            "This is value at risk at 99 % convidence interval:  0.06979635432199638\n",
            "This is the shortfall at 99 % convidence interval :  -0.015177643954733583\n"
          ]
        }
      ]
    },
    {
      "cell_type": "code",
      "source": [
        "# Var and shortfall  at 90 convidence interval for April\n",
        "print(\"This is value at risk at 90 convidence interval: \", value_at_risk(apr,confidence_level=0.9))\n",
        "print(\"This is the shortfall at 90% convidence interval : \", expected_shortfall(apr,confidence_level=0.9))\n",
        "# Var and shortfall  at 95 convidence interval\n",
        "print(\"This is value at risk at 95 % convidence interval: \", value_at_risk(apr,confidence_level=0.95))\n",
        "print(\"This is the shortfall at 95 % convidence interval : \", expected_shortfall(apr,confidence_level=0.95))\n",
        "# Var and shortfall  at 99 % convidence interval\n",
        "print(\"This is value at risk at 99 % convidence interval: \", value_at_risk(apr,confidence_level=0.99))\n",
        "print(\"This is the shortfall at 99 % convidence interval : \", expected_shortfall(apr,confidence_level=0.99))"
      ],
      "metadata": {
        "colab": {
          "base_uri": "https://localhost:8080/"
        },
        "id": "PhDCWCRofzFv",
        "outputId": "3a19eb27-fd7f-42d5-f4e3-4622da92e8ff"
      },
      "execution_count": null,
      "outputs": [
        {
          "output_type": "stream",
          "name": "stdout",
          "text": [
            "This is value at risk at 90 convidence interval:  0.04233825707376626\n",
            "This is the shortfall at 90% convidence interval :  0.0006880388479969871\n",
            "This is value at risk at 95 % convidence interval:  0.08974905861764282\n",
            "This is the shortfall at 95 % convidence interval :  0.0031380516848069444\n",
            "This is value at risk at 99 % convidence interval:  0.08974905861764282\n",
            "This is the shortfall at 99 % convidence interval :  0.0031380516848069444\n"
          ]
        }
      ]
    },
    {
      "cell_type": "code",
      "source": [
        "# Var and shortfall  at 90 convidence interval for May\n",
        "print(\"This is value at risk at 90 convidence interval: \", value_at_risk(may,confidence_level=0.9))\n",
        "print(\"This is the shortfall at 90% convidence interval : \", expected_shortfall(may,confidence_level=0.9))\n",
        "# Var and shortfall  at 95 convidence interval\n",
        "print(\"This is value at risk at 95 % convidence interval: \", value_at_risk(may,confidence_level=0.95))\n",
        "print(\"This is the shortfall at 95 % convidence interval : \", expected_shortfall(may,confidence_level=0.95))\n",
        "# Var and shortfall  at 99 % convidence interval\n",
        "print(\"This is value at risk at 99 % convidence interval: \", value_at_risk(may,confidence_level=0.99))\n",
        "print(\"This is the shortfall at 99 % convidence interval : \", expected_shortfall(may,confidence_level=0.99))"
      ],
      "metadata": {
        "colab": {
          "base_uri": "https://localhost:8080/"
        },
        "id": "CJtlX0nlXCnh",
        "outputId": "114c7ebb-8248-4605-e678-939f887505c8"
      },
      "execution_count": null,
      "outputs": [
        {
          "output_type": "stream",
          "name": "stdout",
          "text": [
            "This is value at risk at 90 convidence interval:  0.020613192160972904\n",
            "This is the shortfall at 90% convidence interval :  -0.005183189905193012\n",
            "This is value at risk at 95 % convidence interval:  0.032536513296803626\n",
            "This is the shortfall at 95 % convidence interval :  -0.0037500575681837945\n",
            "This is value at risk at 99 % convidence interval:  0.032536513296803626\n",
            "This is the shortfall at 99 % convidence interval :  -0.0037500575681837945\n"
          ]
        }
      ]
    },
    {
      "cell_type": "code",
      "source": [
        "# Var and shortfall  at 90 convidence interval for June\n",
        "print(\"This is value at risk at 90 convidence interval: \", value_at_risk(jun,confidence_level=0.9))\n",
        "print(\"This is the shortfall at 90% convidence interval : \", expected_shortfall(jun,confidence_level=0.9))\n",
        "# Var and shortfall  at 95 convidence interval\n",
        "print(\"This is value at risk at 95 % convidence interval: \", value_at_risk(jun,confidence_level=0.95))\n",
        "print(\"This is the shortfall at 95 % convidence interval : \", expected_shortfall(jun,confidence_level=0.95))\n",
        "# Var and shortfall  at 99 % convidence interval\n",
        "print(\"This is value at risk at 99 % convidence interval: \", value_at_risk(jun,confidence_level=0.99))\n",
        "print(\"This is the shortfall at 99 % convidence interval : \", expected_shortfall(jun,confidence_level=0.99))"
      ],
      "metadata": {
        "colab": {
          "base_uri": "https://localhost:8080/"
        },
        "id": "gLCfbQNLXmX7",
        "outputId": "dc8722a2-2247-4325-c2b7-06c49c1c1f07"
      },
      "execution_count": null,
      "outputs": [
        {
          "output_type": "stream",
          "name": "stdout",
          "text": [
            "This is value at risk at 90 convidence interval:  0.015674370940289784\n",
            "This is the shortfall at 90% convidence interval :  0.0006376086127964569\n",
            "This is value at risk at 95 % convidence interval:  0.020894429349029853\n",
            "This is the shortfall at 95 % convidence interval :  0.0013894467291711231\n",
            "This is value at risk at 99 % convidence interval:  0.02712241611855659\n",
            "This is the shortfall at 99 % convidence interval :  0.0023182554253548724\n"
          ]
        }
      ]
    },
    {
      "cell_type": "code",
      "source": [
        "# Var and shortfall  at 90 convidence interval for July\n",
        "print(\"This is value at risk at 90 convidence interval: \", value_at_risk(jul,confidence_level=0.9))\n",
        "print(\"This is the shortfall at 90% convidence interval : \", expected_shortfall(jul,confidence_level=0.9))\n",
        "# Var and shortfall  at 95 convidence interval\n",
        "print(\"This is value at risk at 95 % convidence interval: \", value_at_risk(jul,confidence_level=0.95))\n",
        "print(\"This is the shortfall at 95 % convidence interval : \", expected_shortfall(jul,confidence_level=0.95))\n",
        "# Var and shortfall  at 99 % convidence interval\n",
        "print(\"This is value at risk at 99 % convidence interval: \", value_at_risk(jul,confidence_level=0.99))\n",
        "print(\"This is the shortfall at 99 % convidence interval : \", expected_shortfall(jul,confidence_level=0.99))"
      ],
      "metadata": {
        "colab": {
          "base_uri": "https://localhost:8080/"
        },
        "id": "bmTqIF-CYQnf",
        "outputId": "bc71c64d-556e-4096-8bd8-3a34f09d70ca"
      },
      "execution_count": null,
      "outputs": [
        {
          "output_type": "stream",
          "name": "stdout",
          "text": [
            "This is value at risk at 90 convidence interval:  0.014281454995807463\n",
            "This is the shortfall at 90% convidence interval :  0.001567977492324063\n",
            "This is value at risk at 95 % convidence interval:  0.01471524228858967\n",
            "This is the shortfall at 95 % convidence interval :  0.0021733811829661295\n",
            "This is value at risk at 99 % convidence interval:  0.015037995019680395\n",
            "This is the shortfall at 99 % convidence interval :  0.0027434657786762906\n"
          ]
        }
      ]
    },
    {
      "cell_type": "code",
      "source": [
        "# Var and shortfall  at 90 convidence interval for August\n",
        "print(\"This is value at risk at 90 convidence interval: \", value_at_risk(aug,confidence_level=0.9))\n",
        "print(\"This is the shortfall at 90% convidence interval : \", expected_shortfall(aug,confidence_level=0.9))\n",
        "# Var and shortfall  at 95 convidence interval\n",
        "print(\"This is value at risk at 95 % convidence interval: \", value_at_risk(aug,confidence_level=0.95))\n",
        "print(\"This is the shortfall at 95 % convidence interval : \", expected_shortfall(aug,confidence_level=0.95))\n",
        "# Var and shortfall  at 99 % convidence interval\n",
        "print(\"This is value at risk at 99 % convidence interval: \", value_at_risk(aug,confidence_level=0.99))\n",
        "print(\"This is the shortfall at 99 % convidence interval : \", expected_shortfall(aug,confidence_level=0.99))"
      ],
      "metadata": {
        "colab": {
          "base_uri": "https://localhost:8080/"
        },
        "id": "X39A2PclY6j5",
        "outputId": "e682b591-795b-4122-c07e-0291f1d6cff2"
      },
      "execution_count": null,
      "outputs": [
        {
          "output_type": "stream",
          "name": "stdout",
          "text": [
            "This is value at risk at 90 convidence interval:  0.009614686534024974\n",
            "This is the shortfall at 90% convidence interval :  -0.0008130052355864108\n",
            "This is value at risk at 95 % convidence interval:  0.01255004619648914\n",
            "This is the shortfall at 95 % convidence interval :  -0.0002641793529752853\n",
            "This is value at risk at 99 % convidence interval:  0.020257624936314\n",
            "This is the shortfall at 99 % convidence interval :  0.00037653192449793593\n"
          ]
        }
      ]
    },
    {
      "cell_type": "code",
      "source": [
        "# Var and shortfall  at 90 convidence interval for September\n",
        "print(\"This is value at risk at 90 convidence interval: \", value_at_risk(sep,confidence_level=0.9))\n",
        "print(\"This is the shortfall at 90% convidence interval : \", expected_shortfall(sep,confidence_level=0.9))\n",
        "# Var and shortfall  at 95 convidence interval\n",
        "print(\"This is value at risk at 95 % convidence interval: \", value_at_risk(sep,confidence_level=0.95))\n",
        "print(\"This is the shortfall at 95 % convidence interval : \", expected_shortfall(sep,confidence_level=0.95))\n",
        "# Var and shortfall  at 99 % convidence interval\n",
        "print(\"This is value at risk at 99 % convidence interval: \", value_at_risk(sep,confidence_level=0.99))\n",
        "print(\"This is the shortfall at 99 % convidence interval : \", expected_shortfall(sep,confidence_level=0.99))"
      ],
      "metadata": {
        "colab": {
          "base_uri": "https://localhost:8080/"
        },
        "id": "Xem_ioj7ZpxD",
        "outputId": "9c064e79-2ac4-45c4-b3af-8483a35aefba"
      },
      "execution_count": null,
      "outputs": [
        {
          "output_type": "stream",
          "name": "stdout",
          "text": [
            "This is value at risk at 90 convidence interval:  0.01585958810831789\n",
            "This is the shortfall at 90% convidence interval :  -0.0036177298227338247\n",
            "This is value at risk at 95 % convidence interval:  0.01692411791634063\n",
            "This is the shortfall at 95 % convidence interval :  -0.002643863926181239\n",
            "This is value at risk at 99 % convidence interval:  0.02284476927183765\n",
            "This is the shortfall at 99 % convidence interval :  -0.001712055267013531\n"
          ]
        }
      ]
    },
    {
      "cell_type": "code",
      "source": [
        "# Var and shortfall  at 90 convidence interval for October\n",
        "print(\"This is value at risk at 90 convidence interval: \", value_at_risk(oct,confidence_level=0.9))\n",
        "print(\"This is the shortfall at 90% convidence interval : \", expected_shortfall(oct,confidence_level=0.9))\n",
        "# Var and shortfall  at 95 convidence interval\n",
        "print(\"This is value at risk at 95 % convidence interval: \", value_at_risk(oct,confidence_level=0.95))\n",
        "print(\"This is the shortfall at 95 % convidence interval : \", expected_shortfall(oct,confidence_level=0.95))\n",
        "# Var and shortfall  at 99 % convidence interval\n",
        "print(\"This is value at risk at 99 % convidence interval: \", value_at_risk(oct,confidence_level=0.99))\n",
        "print(\"This is the shortfall at 99 % convidence interval : \", expected_shortfall(oct,confidence_level=0.99))"
      ],
      "metadata": {
        "colab": {
          "base_uri": "https://localhost:8080/"
        },
        "id": "vCs1JWLSaV7T",
        "outputId": "f17b44a3-4569-4eaf-c634-3c332498ff5e"
      },
      "execution_count": null,
      "outputs": [
        {
          "output_type": "stream",
          "name": "stdout",
          "text": [
            "This is value at risk at 90 convidence interval:  0.011220301450529213\n",
            "This is the shortfall at 90% convidence interval :  -0.0001254866701443554\n",
            "This is value at risk at 95 % convidence interval:  0.015417348257794394\n",
            "This is the shortfall at 95 % convidence interval :  0.0004716600730489903\n",
            "This is value at risk at 99 % convidence interval:  0.01652627550051866\n",
            "This is the shortfall at 99 % convidence interval :  0.0012189444822862604\n"
          ]
        }
      ]
    },
    {
      "cell_type": "code",
      "source": [
        "# Var and shortfall  at 90 convidence interval for November\n",
        "print(\"This is value at risk at 90 convidence interval: \", value_at_risk(nov,confidence_level=0.9))\n",
        "print(\"This is the shortfall at 90% convidence interval : \", expected_shortfall(nov,confidence_level=0.9))\n",
        "# Var and shortfall  at 95 convidence interval\n",
        "print(\"This is value at risk at 95 % convidence interval: \", value_at_risk(nov,confidence_level=0.95))\n",
        "print(\"This is the shortfall at 95 % convidence interval : \", expected_shortfall(nov,confidence_level=0.95))\n",
        "# Var and shortfall  at 99 % convidence interval\n",
        "print(\"This is value at risk at 99 % convidence interval: \", value_at_risk(nov,confidence_level=0.99))\n",
        "print(\"This is the shortfall at 99 % convidence interval : \", expected_shortfall(nov,confidence_level=0.99))"
      ],
      "metadata": {
        "colab": {
          "base_uri": "https://localhost:8080/"
        },
        "id": "bqyOgjARax7N",
        "outputId": "927c9775-a243-4250-a5c2-fefd7499211f"
      },
      "execution_count": null,
      "outputs": [
        {
          "output_type": "stream",
          "name": "stdout",
          "text": [
            "This is value at risk at 90 convidence interval:  0.016813551394766924\n",
            "This is the shortfall at 90% convidence interval :  0.004403929447876369\n",
            "This is value at risk at 95 % convidence interval:  0.017825906649642453\n",
            "This is the shortfall at 95 % convidence interval :  0.005093352889370289\n",
            "This is value at risk at 99 % convidence interval:  0.017825906649642453\n",
            "This is the shortfall at 99 % convidence interval :  0.005093352889370289\n"
          ]
        }
      ]
    },
    {
      "cell_type": "code",
      "source": [
        "# Var and shortfall  at 90 convidence interval for December\n",
        "print(\"This is value at risk at 90 convidence interval: \", value_at_risk(dec,confidence_level=0.9))\n",
        "print(\"This is the shortfall at 90% convidence interval : \", expected_shortfall(dec,confidence_level=0.9))\n",
        "# Var and shortfall  at 95 convidence interval\n",
        "print(\"This is value at risk at 95 % convidence interval: \", value_at_risk(dec,confidence_level=0.95))\n",
        "print(\"This is the shortfall at 95 % convidence interval : \", expected_shortfall(dec,confidence_level=0.95))\n",
        "# Var and shortfall  at 99 % convidence interval\n",
        "print(\"This is value at risk at 99 % convidence interval: \", value_at_risk(dec,confidence_level=0.99))\n",
        "print(\"This is the shortfall at 99 % convidence interval : \", expected_shortfall(dec,confidence_level=0.99))"
      ],
      "metadata": {
        "colab": {
          "base_uri": "https://localhost:8080/"
        },
        "id": "J1uEMKFhcAmv",
        "outputId": "890e0eae-2b5a-4b2e-b322-cdd72dac3747"
      },
      "execution_count": null,
      "outputs": [
        {
          "output_type": "stream",
          "name": "stdout",
          "text": [
            "This is value at risk at 90 convidence interval:  0.010852980345037455\n",
            "This is the shortfall at 90% convidence interval :  0.002530683001120514\n",
            "This is value at risk at 95 % convidence interval:  0.011397754865341447\n",
            "This is the shortfall at 95 % convidence interval :  0.002968698650800353\n",
            "This is value at risk at 99 % convidence interval:  0.011454719771006427\n",
            "This is the shortfall at 99 % convidence interval :  0.0033901514615274075\n"
          ]
        }
      ]
    },
    {
      "cell_type": "code",
      "source": [],
      "metadata": {
        "id": "8rLwU4mq15EU"
      },
      "execution_count": null,
      "outputs": []
    }
  ]
}